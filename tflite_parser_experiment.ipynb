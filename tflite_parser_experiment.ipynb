{
 "cells": [
  {
   "cell_type": "markdown",
   "metadata": {},
   "source": [
    "# .tflite experiments\n",
    "\n",
    "## Building flatc\n",
    "\n",
    "- Visit the [Flatbuffer repository](https://github.com/google/flatbuffers)\n",
    "- Tutorials are [here](https://google.github.io/flatbuffers/flatbuffers_guide_building.html)\n",
    "```\n",
    "git clone https://github.com/google/flatbuffers\n",
    "cmake -G \"Unix Makefiles\" -DCMAKE_BUILD_TYPE=Release\n",
    "make\n",
    "```"
   ]
  },
  {
   "cell_type": "markdown",
   "metadata": {},
   "source": [
    "## Generate TF Lite schema\n",
    "```\n",
    "wget https://raw.githubusercontent.com/tensorflow/tensorflow/master/tensorflow/lite/schema/schema.fbs\n",
    "pip install flatbuffers\n",
    "./flatbuffers/flatc -p schema.fbs\n",
    "```\n",
    "The generated python code is under `tflite/`"
   ]
  },
  {
   "cell_type": "markdown",
   "metadata": {},
   "source": [
    "## Generate the .tflite File\n",
    "\n",
    "We are experimenting with a network with its architecture shown below: ![](https://raw.githubusercontent.com/dmlc/web-data/master/mxnet/image/mlp_mnist.png)\n",
    "\n",
    "The code to construct, train and export the model as a `.tflite` can be viewed [here](https://gist.github.com/neil-tan/6d77ee4029dff09d33830d716ac26a3a).\n",
    "The pre-generated TF Lite file is included in the current repository as `converted_model.tflite`.\n",
    "\n",
    "\n"
   ]
  },
  {
   "cell_type": "markdown",
   "metadata": {},
   "source": [
    "## Python Experiments\n",
    "Referencing [tutorial1](https://google.github.io/flatbuffers/flatbuffers_guide_tutorial.html) and [tutorial2](https://google.github.io/flatbuffers/flatbuffers_guide_use_python.html)\n",
    "\n",
    "Flatbuffer Import"
   ]
  },
  {
   "cell_type": "code",
   "execution_count": null,
   "metadata": {},
   "outputs": [],
   "source": [
    "import flatbuffers\n",
    "import tflite.Model as tf_model"
   ]
  },
  {
   "cell_type": "code",
   "execution_count": null,
   "metadata": {},
   "outputs": [],
   "source": [
    "buf = open('converted_model.tflite', 'rb').read()\n",
    "buf = bytearray(buf)\n",
    "model = tf_model.Model.GetRootAsModel(buf, 0)\n",
    "print(tf_graph.Version())"
   ]
  },
  {
   "cell_type": "code",
   "execution_count": null,
   "metadata": {},
   "outputs": [],
   "source": [
    "# getting subgraph(s)\n",
    "subgraphs_len = model.SubgraphsLength()\n",
    "print(subgraphs_len)"
   ]
  },
  {
   "cell_type": "code",
   "execution_count": null,
   "metadata": {},
   "outputs": [],
   "source": [
    "subgraph = model.Subgraphs(0)\n",
    "print(subgraph)"
   ]
  },
  {
   "cell_type": "markdown",
   "metadata": {},
   "source": [
    "Operators"
   ]
  },
  {
   "cell_type": "code",
   "execution_count": null,
   "metadata": {},
   "outputs": [],
   "source": [
    "#op code lookup object\n",
    "op_codes = []\n",
    "for i in range(0, model.OperatorCodesLength()):\n",
    "    op_code =  model.OperatorCodes(i)\n",
    "    op_codes.append(op_code)\n",
    "    \n",
    "print(op_codes)"
   ]
  },
  {
   "cell_type": "code",
   "execution_count": null,
   "metadata": {},
   "outputs": [],
   "source": [
    "# printing the built-in op codes\n",
    "# see BuiltinOperator.py\n",
    "\n",
    "import tflite.BuiltinOperator as BuiltinOperator\n",
    "builtin_ops = {v: k for k, v in BuiltinOperator.BuiltinOperator.__dict__.items()}    \n",
    "\n",
    "print(subgraph.OperatorsLength(), \"operators:\")\n",
    "\n",
    "for i in range(0, subgraph.OperatorsLength()):\n",
    "    op = subgraph.Operators(i)\n",
    "    opIndex = op.OpcodeIndex()\n",
    "    op_code = op_codes[opIndex]\n",
    "    builtin_code = op_code.BuiltinCode()\n",
    "    print(builtin_ops[builtin_code])\n"
   ]
  },
  {
   "cell_type": "code",
   "execution_count": null,
   "metadata": {},
   "outputs": [],
   "source": []
  }
 ],
 "metadata": {
  "kernelspec": {
   "display_name": "Python 3",
   "language": "python",
   "name": "python3"
  },
  "language_info": {
   "codemirror_mode": {
    "name": "ipython",
    "version": 3
   },
   "file_extension": ".py",
   "mimetype": "text/x-python",
   "name": "python",
   "nbconvert_exporter": "python",
   "pygments_lexer": "ipython3",
   "version": "3.6.8"
  }
 },
 "nbformat": 4,
 "nbformat_minor": 2
}
