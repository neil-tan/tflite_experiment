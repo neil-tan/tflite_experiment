{
 "cells": [
  {
   "cell_type": "markdown",
   "metadata": {},
   "source": [
    "# .tflite experiments\n",
    "\n",
    "## Building flatc\n",
    "\n",
    "- Visit the [Flatbuffer repository](https://github.com/google/flatbuffers)\n",
    "- Tutorials are [here](https://google.github.io/flatbuffers/flatbuffers_guide_building.html)\n",
    "```\n",
    "git clone https://github.com/google/flatbuffers\n",
    "cmake -G \"Unix Makefiles\" -DCMAKE_BUILD_TYPE=Release\n",
    "make\n",
    "```"
   ]
  },
  {
   "cell_type": "markdown",
   "metadata": {},
   "source": [
    "## Generate TF Lite schema\n",
    "```\n",
    "wget https://raw.githubusercontent.com/tensorflow/tensorflow/master/tensorflow/lite/schema/schema.fbs\n",
    "pip install flatbuffers\n",
    "./flatbuffers/flatc -p schema.fbs\n",
    "```\n",
    "The generated python code is under `tflite/`"
   ]
  },
  {
   "cell_type": "markdown",
   "metadata": {},
   "source": [
    "## Generate the .tflite File\n",
    "\n",
    "We are experimenting with a network with its architecture shown below: ![](https://raw.githubusercontent.com/dmlc/web-data/master/mxnet/image/mlp_mnist.png)\n",
    "\n",
    "The code to construct, train and export the model as a `.tflite` can be viewed [here](https://gist.github.com/neil-tan/6d77ee4029dff09d33830d716ac26a3a).\n",
    "The pre-generated TF Lite file is included in the current repository as `converted_model.tflite`.\n",
    "\n",
    "\n"
   ]
  },
  {
   "cell_type": "markdown",
   "metadata": {},
   "source": [
    "## Python Experiments\n",
    "Referencing [tutorial1](https://google.github.io/flatbuffers/flatbuffers_guide_tutorial.html) and [tutorial2](https://google.github.io/flatbuffers/flatbuffers_guide_use_python.html)\n",
    "\n",
    "Flatbuffer Import"
   ]
  },
  {
   "cell_type": "code",
   "execution_count": 1,
   "metadata": {},
   "outputs": [],
   "source": [
    "import flatbuffers\n",
    "from tflite.Model import Model"
   ]
  },
  {
   "cell_type": "code",
   "execution_count": 2,
   "metadata": {},
   "outputs": [
    {
     "name": "stdout",
     "output_type": "stream",
     "text": [
      "3\n"
     ]
    }
   ],
   "source": [
    "buf = open('converted_model.tflite', 'rb').read()\n",
    "buf = bytearray(buf)\n",
    "model = Model.GetRootAsModel(buf, 0)\n",
    "print(model.Version())"
   ]
  },
  {
   "cell_type": "code",
   "execution_count": 3,
   "metadata": {},
   "outputs": [
    {
     "name": "stdout",
     "output_type": "stream",
     "text": [
      "1\n"
     ]
    }
   ],
   "source": [
    "# getting subgraph(s)\n",
    "subgraphs_len = model.SubgraphsLength()\n",
    "print(subgraphs_len)"
   ]
  },
  {
   "cell_type": "code",
   "execution_count": 4,
   "metadata": {},
   "outputs": [
    {
     "name": "stdout",
     "output_type": "stream",
     "text": [
      "<tflite.SubGraph.SubGraph object at 0x10cb56a98>\n"
     ]
    }
   ],
   "source": [
    "subgraph = model.Subgraphs(0)\n",
    "print(subgraph)"
   ]
  },
  {
   "cell_type": "markdown",
   "metadata": {},
   "source": [
    "Operators"
   ]
  },
  {
   "cell_type": "code",
   "execution_count": 5,
   "metadata": {},
   "outputs": [
    {
     "name": "stdout",
     "output_type": "stream",
     "text": [
      "[<tflite.OperatorCode.OperatorCode object at 0x10cb56438>, <tflite.OperatorCode.OperatorCode object at 0x10cb56a38>]\n"
     ]
    }
   ],
   "source": [
    "#op code lookup object\n",
    "op_codes = []\n",
    "for i in range(0, model.OperatorCodesLength()):\n",
    "    op_code =  model.OperatorCodes(i)\n",
    "    op_codes.append(op_code)\n",
    "    \n",
    "print(op_codes)"
   ]
  },
  {
   "cell_type": "code",
   "execution_count": 6,
   "metadata": {},
   "outputs": [],
   "source": [
    "# printing the built-in op codes\n",
    "# see BuiltinOperator.py\n",
    "\n",
    "from tflite.BuiltinOperator import BuiltinOperator\n",
    "from tflite.BuiltinOptions import BuiltinOptions\n",
    "\n",
    "builtin_ops = {v: k for k, v in BuiltinOperator.__dict__.items()}\n",
    "op_options = {v: k for k, v in BuiltinOptions.__dict__.items()}\n"
   ]
  },
  {
   "cell_type": "code",
   "execution_count": 13,
   "metadata": {},
   "outputs": [
    {
     "name": "stdout",
     "output_type": "stream",
     "text": [
      "4 operators:\n",
      "FULLY_CONNECTED\n",
      "DEFAULT\n",
      "b'x' ,  [  1 784] ,  0\n",
      "Tensor values:  0\n",
      "b'Variable/transpose' ,  [128 784] ,  3\n",
      "Tensor values:  [  1 254 243 ... 222 251 249]\n",
      "b'MatMul_bias' ,  [128] ,  0\n",
      "Tensor values:  [189 210 253  61 110 245 183  61  36 135 230  61 215  79   0  62 232 139\n",
      " 239  61 241 206 229  61  67 155   4  62 170 101  19  62  49  54 181  61\n",
      " 136 178 217  61 194 249 151  61  43 249   0  62 148 160 192  61  85 217\n",
      "  44  62  88 108 222  61 133  75 229  61  87  52  18  62  77 170 181  61\n",
      " 219  38 150  61 211  67 229  61 188 214 121  61  46 171 162  61 148 142\n",
      " 183  61 180  49  22  62 119 113  18  62  12   3  17  62 155 123 253  61\n",
      "  36  92 129  61  59  51 212  61  87 203 215  61 122 230  51  62 227  12\n",
      " 251  61 122 200 195  61 143 174   1  62 174  83 213  61  26  11  27  62\n",
      "  90   0 254  61 186  34 226  61 179 150 100  61 136 250 211  61  96 216\n",
      " 194  61 143  97  22  62  39 254 226  61 136  67  27  62  29  96 204  61\n",
      "  21 174 245  61  94 143  14  62  65 205 193  61 193 111  28  62  81 201\n",
      "  17  62 138 112 210  61 168 159  20  62   5 208 234  61  72 137  25  62\n",
      " 186  13 232  61  58  31  66  62 137 218  11  62   9 191  17  62  51 201\n",
      "  68  62  40 150 215  61 183  74  55  62 210  76 236  61 141 238  31  62\n",
      " 158 121 154  61 163 100  53  62 147  23   6  62  66 156   2  62 191  50\n",
      "   9  62 243 201   6  62 108  35  24  62  74 110   5  62 203 151 149  61\n",
      "  14 238 213  61  45 177  39  62 193 251   5  62 218 121  28  62  88  25\n",
      " 201  61 231 235 248  61 242 162  14  62 211 208   0  62  53 232 152  61\n",
      "  31  58 225  61 197  31  80  62  35  83  32  62 140 186  31  62  12  40\n",
      "  10  62 193 245  12  62  62 205  29  62 200  80  45  62  91 244 207  61\n",
      " 200  41   4  62  18  33 173  61 194 143  43  62 127  31 251  61  32  58\n",
      "  62  62  83 218   0  62 161  99  10  62 253  55 210  61  59 219  55  62\n",
      " 251 108  22  62 238  53 247  61 151  79  37  62  80 142 246  61  29  48\n",
      "  13  62 246  43  37  62  43  99 218  61 228 164 186  61  59 226   0  62\n",
      "  22 136  22  62 222  37 163  61 208 116  12  62 110 181 241  61 106 180\n",
      "   4  62 151 118 233  61   5 119  25  62  73 155  23  62  54 173   4  62\n",
      "  52 134 205  61   5  91 135  61 227  50 150  61 101 184  19  62  52 119\n",
      " 152  61 192 179  40  62  88  21 234  61 225 227 240  61  53 109  16  62\n",
      "  72  50 137  61 106 236  33  62]\n",
      "\n",
      "FULLY_CONNECTED\n",
      "DEFAULT\n",
      "b'Relu' ,  [  1 128] ,  0\n",
      "Tensor values:  0\n",
      "b'Variable_2/transpose' ,  [ 64 128] ,  3\n",
      "Tensor values:  [ 27  77  53 ... 231  17 232]\n",
      "b'MatMul_1_bias' ,  [64] ,  0\n",
      "Tensor values:  [218 148  13  62 159  75  47  62  76  83 199  61 134   2  13  62 179 203\n",
      " 212  61 234  64  35  62  79 253   5  62 139 112   6  62 105 246  22  62\n",
      " 214 100  35  62  32 222  16  62 187 150 212  61 159  33 226  61 143  75\n",
      " 242  61  23 214 218  61 198  19 224  61 123 213  16  62 169 134   6  62\n",
      " 152 170  26  62 162  15 197  61 160  48 235  61 214  41 137  61  74 152\n",
      " 252  61 212  71 251  61  55  94  13  62 138  86 224  61  97  91   3  62\n",
      "  64 122 119  61 172  73 213  61 119  19  25  62  41 109 209  61 191 171\n",
      " 236  61   8 252   1  62 111  15 223  61 136 112 235  61 167 197   0  62\n",
      " 255 195 214  61 226 211 213  61  53  68   4  62 118 211 228  61 122 232\n",
      "  19  62  45  57  24  62 140 238 245  61  19 242   2  62 104  56   1  62\n",
      "  94 196 155  61  18 160   7  62  14  15  31  62 152  56  25  62 102 112\n",
      "  29  62 228 144 169  61 187  82 188  61 153  92   1  62 195 152 252  61\n",
      "  45 142 236  61  16 221  44  62 167  59 240  61  77 190 166  61 241 202\n",
      "   1  62 129 189 200  61 221 201  40  62 214 155 241  61 197   5 133  61\n",
      " 236  38   2  62]\n",
      "\n",
      "FULLY_CONNECTED\n",
      "DEFAULT\n",
      "b'Relu_1' ,  [ 1 64] ,  0\n",
      "Tensor values:  0\n",
      "b'Variable_4/transpose' ,  [10 64] ,  0\n",
      "Tensor values:  [224  84 152 ... 106  66  62]\n",
      "b'MatMul_2_bias' ,  [10] ,  0\n",
      "Tensor values:  [103 241   4  61  87 245 228  61 199 185 194  61  68 222 215  61 203 221\n",
      " 245  61 164   7  15  62  58 249 153  61 220  79 216  61  60 197 212  61\n",
      " 161 241 180  61]\n",
      "\n",
      "ARG_MAX\n",
      "\n"
     ]
    }
   ],
   "source": [
    "print(subgraph.OperatorsLength(), \"operators:\")\n",
    "\n",
    "for i in range(0, subgraph.OperatorsLength()):\n",
    "    op = subgraph.Operators(i)\n",
    "    opIndex = op.OpcodeIndex()\n",
    "    op_code = op_codes[opIndex]\n",
    "    builtin_code = op_code.BuiltinCode()\n",
    "    op_type = builtin_ops[builtin_code]\n",
    "    print(op_type)\n",
    "    \n",
    "    if(op_type == 'FULLY_CONNECTED'):\n",
    "        option = None\n",
    "        custom_option = None\n",
    "        \n",
    "        if(op.CustomOptionsLength() < 1):\n",
    "            #TODO: abstract these 2 lines\n",
    "            from tflite.FullyConnectedOptions import FullyConnectedOptions\n",
    "            option = FullyConnectedOptions()\n",
    "            builtin_data = op.BuiltinOptions()\n",
    "            option.Init(builtin_data.Bytes, builtin_data.Pos)\n",
    "            from tflite.FullyConnectedOptionsWeightsFormat import FullyConnectedOptionsWeightsFormat\n",
    "            w_formats = {v: k for k, v in FullyConnectedOptionsWeightsFormat.__dict__.items()}\n",
    "        else:\n",
    "            custom_option = op.CustomOptionsAsNumpy()\n",
    "            #print(\"custom option format: \", op.CustomOptionsFormat())\n",
    "        \n",
    "        print(w_formats[option.WeightsFormat()])\n",
    "        \n",
    "        #input\n",
    "        input_tensors = [subgraph.Tensors(input_idx) for input_idx in op.InputsAsNumpy()]\n",
    "        for tensor in input_tensors:\n",
    "            print(tensor.Name(), \", \", tensor.ShapeAsNumpy(), \", \", tensor.Type())\n",
    "            buffer_index = tensor.Buffer()\n",
    "            print(\"Tensor values: \", model.Buffers(buffer_index).DataAsNumpy())\n",
    "            \n",
    "    print()\n",
    "        \n",
    "\n",
    "        "
   ]
  },
  {
   "cell_type": "code",
   "execution_count": null,
   "metadata": {},
   "outputs": [],
   "source": []
  }
 ],
 "metadata": {
  "kernelspec": {
   "display_name": "Python 3",
   "language": "python",
   "name": "python3"
  },
  "language_info": {
   "codemirror_mode": {
    "name": "ipython",
    "version": 3
   },
   "file_extension": ".py",
   "mimetype": "text/x-python",
   "name": "python",
   "nbconvert_exporter": "python",
   "pygments_lexer": "ipython3",
   "version": "3.6.8"
  }
 },
 "nbformat": 4,
 "nbformat_minor": 2
}
